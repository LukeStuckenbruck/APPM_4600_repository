{
 "cells": [
  {
   "cell_type": "markdown",
   "metadata": {},
   "source": [
    "# Lab 1\n",
    "**Name your notebook** `Lab1.ipynb`. At the end of class, you will convert the notebook to `.py` format and upload to Gradescope for autograding.\n",
    "\n",
    "---"
   ]
  },
  {
   "cell_type": "markdown",
   "metadata": {},
   "source": [
    "*Be sure to* `import math` *before beginning these exercises.  \n",
    "Answers shown are rounded to 6 decimal digits. It is not necessary for you to round your answers.*"
   ]
  },
  {
   "cell_type": "code",
   "execution_count": 2,
   "metadata": {},
   "outputs": [],
   "source": []
  },
  {
   "cell_type": "markdown",
   "metadata": {},
   "source": [
    "### Basic Operations\n",
    "\n",
    "The fraction $\\frac{22}{7}$ can be used as an approximation for $\\pi$. What is the absolute difference of the two values? Use the `abs` function and the `math.pi` constant.\n",
    "\n",
    " Answer: `0.001264`"
   ]
  },
  {
   "cell_type": "code",
   "execution_count": null,
   "metadata": {},
   "outputs": [],
   "source": []
  },
  {
   "cell_type": "markdown",
   "metadata": {},
   "source": [
    "$(3,4,5)$ is a Pythagorean triple: $3^2 + 4^2 = 5^2$. Another triple is $(19, b, 181)$. Find the value of $b$.\n",
    "\n",
    " Answer: `180.0`"
   ]
  },
  {
   "cell_type": "code",
   "execution_count": null,
   "metadata": {},
   "outputs": [],
   "source": []
  },
  {
   "cell_type": "markdown",
   "metadata": {},
   "source": [
    "### Quotients and Remainders\n",
    "\n",
    "Find the quotient when $1234$ is divided by $19$. Use the `//` operator.\n",
    "\n",
    " Answer: `64`"
   ]
  },
  {
   "cell_type": "code",
   "execution_count": null,
   "metadata": {},
   "outputs": [],
   "source": []
  },
  {
   "cell_type": "markdown",
   "metadata": {},
   "source": [
    "Find the remainder when $1234$ is divided by $19$. Use the `%` operator.\n",
    "\n",
    " Answer: `18`\n",
    " "
   ]
  },
  {
   "cell_type": "code",
   "execution_count": null,
   "metadata": {},
   "outputs": [],
   "source": []
  },
  {
   "cell_type": "markdown",
   "metadata": {},
   "source": [
    "Use the `%` operator to calculate the units digit of $17^{19}$.\n",
    "\n",
    " Answer: `3`\n",
    " "
   ]
  },
  {
   "cell_type": "code",
   "execution_count": null,
   "metadata": {},
   "outputs": [],
   "source": []
  },
  {
   "cell_type": "markdown",
   "metadata": {},
   "source": [
    "Use the `%` operator to calculate the last three digits of $17^{19}$.\n",
    "\n",
    " Answer: `153`"
   ]
  },
  {
   "cell_type": "code",
   "execution_count": null,
   "metadata": {},
   "outputs": [],
   "source": []
  },
  {
   "cell_type": "markdown",
   "metadata": {},
   "source": [
    "### Exponentials and Logarithms\n"
   ]
  },
  {
   "cell_type": "markdown",
   "metadata": {},
   "source": [
    "Find the value of $\\pi^e$.\n",
    "\n",
    " Answer: `22.459158`"
   ]
  },
  {
   "cell_type": "code",
   "execution_count": null,
   "metadata": {},
   "outputs": [],
   "source": []
  },
  {
   "cell_type": "markdown",
   "metadata": {},
   "source": [
    "The expression $\\ln \\left(16\\cdot 7^3 \\right)$ simplifies to $4\\ln(2) + 3\\ln(7)$. Check that they are equal."
   ]
  },
  {
   "cell_type": "code",
   "execution_count": null,
   "metadata": {},
   "outputs": [],
   "source": []
  },
  {
   "cell_type": "code",
   "execution_count": null,
   "metadata": {},
   "outputs": [],
   "source": []
  },
  {
   "cell_type": "markdown",
   "metadata": {},
   "source": [
    "### Trigonometry\n",
    "\n",
    "Calculate the degree measure of $1$ radian. Use the `math.degrees` function.\n",
    "\n",
    " Answer: `57.295780`"
   ]
  },
  {
   "cell_type": "code",
   "execution_count": null,
   "metadata": {},
   "outputs": [],
   "source": []
  },
  {
   "cell_type": "markdown",
   "metadata": {},
   "source": [
    "Calculate the value of $\\sec(75^\\circ)$. Use the `math.cos` and `math.radians` functions. (The `math` module does not include functions for $\\sec x, \\csc x,$ or $\\cot x$.)\n",
    "\n",
    " Answer: `3.863703`"
   ]
  },
  {
   "cell_type": "code",
   "execution_count": null,
   "metadata": {},
   "outputs": [],
   "source": []
  },
  {
   "cell_type": "markdown",
   "metadata": {},
   "source": [
    "The value of $\\tan(\\pi/2)$ is undefined. What happens if the angle is close to $\\pi/2$? Evaluate the `math.tan` function at the angles $\\pi/2 \\pm 10^{-6}$. Use scientific notation for $10^{-6}$.\n",
    "\n",
    "Answers: `-1000000.000143` and `1000000.000021`"
   ]
  },
  {
   "cell_type": "code",
   "execution_count": null,
   "metadata": {},
   "outputs": [],
   "source": []
  },
  {
   "cell_type": "code",
   "execution_count": null,
   "metadata": {},
   "outputs": [],
   "source": []
  },
  {
   "cell_type": "markdown",
   "metadata": {},
   "source": [
    "### Printing\n",
    "Predict the output:\n",
    "```\n",
    "a, b = 7, 11\n",
    "print(a, b)\n",
    "print('a', 'b')\n",
    "print('a', a, 'b', b)\n",
    "```"
   ]
  },
  {
   "cell_type": "code",
   "execution_count": null,
   "metadata": {},
   "outputs": [],
   "source": []
  },
  {
   "cell_type": "markdown",
   "metadata": {},
   "source": [
    "### Geometric Mean\n",
    "\n",
    "The *geometric mean* of two numbers $a$ and $b$ is defined to be $\\sqrt{ab}$. Write a function **`geom_mean(a, b)`** that **returns** the geometric mean of two numbers. Assume that the arguments are positive numbers.\n",
    "\n",
    "Examples:  \n",
    "`geom_mean(2, 1/8)` returns `0.5`.<br>\n",
    "`5 * geom_mean(2, 1/8)` returns `2.5`.  "
   ]
  },
  {
   "cell_type": "code",
   "execution_count": null,
   "metadata": {},
   "outputs": [],
   "source": []
  },
  {
   "cell_type": "code",
   "execution_count": null,
   "metadata": {},
   "outputs": [],
   "source": []
  },
  {
   "cell_type": "code",
   "execution_count": null,
   "metadata": {},
   "outputs": [],
   "source": []
  },
  {
   "cell_type": "markdown",
   "metadata": {},
   "source": [
    "Write a function **`geom_mean_print(a, b)`** that **prints** the geometric mean of two numbers. \n",
    "\n",
    "Examples:  \n",
    "`geom_mean_print(2, 1/8)` displays `0.5`.<br>\n",
    "`5 * geom_mean_print(2, 1/8)` produces an error. Why?"
   ]
  },
  {
   "cell_type": "code",
   "execution_count": null,
   "metadata": {},
   "outputs": [],
   "source": []
  },
  {
   "cell_type": "code",
   "execution_count": null,
   "metadata": {},
   "outputs": [],
   "source": []
  },
  {
   "cell_type": "code",
   "execution_count": null,
   "metadata": {},
   "outputs": [],
   "source": []
  },
  {
   "cell_type": "markdown",
   "metadata": {},
   "source": [
    "*Important:* Before uploading to the autograder, you must **comment out** the previous line along with any other code that generates an error."
   ]
  },
  {
   "cell_type": "markdown",
   "metadata": {},
   "source": [
    "### Sum of Squares\n",
    "Write a function **`sum_squares(n)`** that returns the sum of the perfect squares $1^2 + 2^2 + \\cdots + n^2$ using the formula\n",
    "\n",
    "$$ S = \\frac{n(n+1)(2n+1)}{6}. $$\n",
    "\n",
    "Assume that `n` is a positive integer. The return value should be an `int`. (Note that the formula always evaluates to an integer. Why is that?)\n",
    "\n",
    "Example:  \n",
    "`sum_squares(200)` returns `2686700` (not `2686700.0`)."
   ]
  },
  {
   "cell_type": "code",
   "execution_count": null,
   "metadata": {},
   "outputs": [],
   "source": []
  },
  {
   "cell_type": "code",
   "execution_count": null,
   "metadata": {},
   "outputs": [],
   "source": []
  },
  {
   "cell_type": "markdown",
   "metadata": {
    "tags": []
   },
   "source": [
    "### Fahrenheit and Celsius Conversion\n",
    "Write a function **`fah_to_cel(fah)`** that converts a Fahrenheit temperature to Celsius. Figure out the formula without looking it up. (*Hint:* Use the boiling point and freezing point temperatures.)\n",
    "\n",
    "Example:  \n",
    "`fah_to_cel(-10)` returns `-23.333333`."
   ]
  },
  {
   "cell_type": "code",
   "execution_count": null,
   "metadata": {},
   "outputs": [],
   "source": []
  },
  {
   "cell_type": "code",
   "execution_count": null,
   "metadata": {},
   "outputs": [],
   "source": []
  },
  {
   "cell_type": "code",
   "execution_count": null,
   "metadata": {},
   "outputs": [],
   "source": []
  },
  {
   "cell_type": "code",
   "execution_count": null,
   "metadata": {},
   "outputs": [],
   "source": []
  },
  {
   "cell_type": "markdown",
   "metadata": {},
   "source": [
    "Write a function **`cel_to_fah(cel)`** that converts a Celsius temperature to Fahrenheit.\n",
    " \n",
    "Example:  \n",
    "`cel_to_fah(50)` returns `122.0`."
   ]
  },
  {
   "cell_type": "code",
   "execution_count": null,
   "metadata": {},
   "outputs": [],
   "source": []
  },
  {
   "cell_type": "code",
   "execution_count": null,
   "metadata": {},
   "outputs": [],
   "source": []
  },
  {
   "cell_type": "code",
   "execution_count": null,
   "metadata": {},
   "outputs": [],
   "source": []
  },
  {
   "cell_type": "code",
   "execution_count": null,
   "metadata": {},
   "outputs": [],
   "source": []
  },
  {
   "cell_type": "markdown",
   "metadata": {},
   "source": [
    "### Upload Your Work to Gradescope for Autograding\n",
    "\n",
    "**You must submit your Lab solutions to the autograder at the end of class even if your work is incomplete.**\n",
    "* In Jupyter, select `Run` $\\to$ `Run All Cells` and make sure there are no errors in your code. Comment out any non-working code.\n",
    "* Select `File` $\\to$ `Export Notebook as` $\\to$ `Executable Script`. This will create an executable `.py` version of your notebook. (On some computers, you will `Download` to `.py` format.)\n",
    "* **The file must be named `Lab1.py`**.\n",
    "* In Gradescope, select the `Lab1.py` assignment and upload your `Lab1.py` file.\n",
    "* Your solutions will be autograded. Some test cases may be hidden. Correct answers will be shown in green. Incorrect answers will be shown in red.\n",
    "* If you do not complete the lab during class, you may resubmit your file up to a week late. Multiple submissions are allowed.\n",
    "* **Important: Your file must be in the correct format**. If the autograder is unable to grade your work, a score of zero will be given to the assignment.\n"
   ]
  },
  {
   "cell_type": "markdown",
   "metadata": {},
   "source": [
    "---\n",
    "\n",
    "## Extra Problems\n",
    "If you complete all of the assigned exercises before the end of class, please work on these extra problems."
   ]
  },
  {
   "cell_type": "markdown",
   "metadata": {},
   "source": [
    "### Jupyter Shortcuts\n",
    "\n",
    "You can use the `_` symbol to reference a previous result. For example, if you execute `3 + 5` in a cell to produce 8, and then `_ * 10` in any other cell, the result will be 80. You also can reference a result by cell number. For example, `_12` gives the result from cell 12.\n",
    "\n",
    "*Caution:* This feature should be used rarely and only for quick testing. This is a Jupyter feature, not a Python feature. **Do not use `_` in homework, quiz, or exam solutions.**\n",
    "\n",
    "*Important:* **Comment out** any uses of `_` before uploading code to the autograder."
   ]
  },
  {
   "cell_type": "code",
   "execution_count": null,
   "metadata": {},
   "outputs": [],
   "source": []
  },
  {
   "cell_type": "markdown",
   "metadata": {},
   "source": [
    "### Complex Numbers\n",
    "To represent complex numbers in Python use the letter `j` for $i = \\sqrt{-1}$. For example the complex numbers $i$, $7i$ and $3+2i$ are represented as `1j`, `7j` and `3+2j`.\n",
    "\n",
    "* Evaluate $i(3+2i)(4-5i)$.\n",
    " \n",
    " Answer: `(7+22j)` "
   ]
  },
  {
   "cell_type": "code",
   "execution_count": null,
   "metadata": {},
   "outputs": [],
   "source": []
  },
  {
   "cell_type": "markdown",
   "metadata": {},
   "source": [
    "### Euler's Identity\n",
    "The equation $e^{i\\pi} + 1 = 0$ is considered to be one of the most beautiful equations in mathematics. Verify the identity. "
   ]
  },
  {
   "cell_type": "code",
   "execution_count": null,
   "metadata": {},
   "outputs": [],
   "source": []
  },
  {
   "cell_type": "markdown",
   "metadata": {
    "tags": []
   },
   "source": [
    "### Lines and Angles\n",
    "Write a function **`x_axis_angle(x1, y1, x2, y2)`** that finds the angle $\\theta$ (in radians) that a line makes with the $x$-axis given two points on the line $(x1, y1)$ and $(x2, y2)$. Assume $-\\frac{\\pi}{2}< \\theta < \\frac{\\pi}{2}$ and that the line intersects the $x$-axis.\n",
    "\n",
    "Example:  \n",
    "`x_axis_angle(0, 0, -5, 5)` returns `-0.785398`.<br />\n",
    "`x_axis_angle(2, 0, 7, 8.66)` returns `1.047185`."
   ]
  },
  {
   "cell_type": "code",
   "execution_count": null,
   "metadata": {},
   "outputs": [],
   "source": []
  },
  {
   "cell_type": "markdown",
   "metadata": {
    "tags": []
   },
   "source": [
    "### Hypotenuse\n",
    "Write a function **`hypot_trig(leg1, leg2)`** that finds the length of the hypotenuse of a right triangle given the lengths of the legs. The function should use **trigonometric functions** instead of the Pythagorean Theorem or the distance formula.\n",
    "\n",
    "Example:  \n",
    "`hypot_trig(24, 7)` returns `25.0`."
   ]
  },
  {
   "cell_type": "code",
   "execution_count": null,
   "metadata": {},
   "outputs": [],
   "source": []
  }
 ],
 "metadata": {
  "kernelspec": {
   "display_name": "Python 3 (ipykernel)",
   "language": "python",
   "name": "python3"
  },
  "language_info": {
   "codemirror_mode": {
    "name": "ipython",
    "version": 3
   },
   "file_extension": ".py",
   "mimetype": "text/x-python",
   "name": "python",
   "nbconvert_exporter": "python",
   "pygments_lexer": "ipython3",
   "version": "3.8.17"
  }
 },
 "nbformat": 4,
 "nbformat_minor": 4
}
